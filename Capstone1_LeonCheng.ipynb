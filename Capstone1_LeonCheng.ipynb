{
 "cells": [
  {
   "cell_type": "markdown",
   "metadata": {},
   "source": [
    "#  Rent or Buy using Price-to-Rent (P/R) Ratio\n",
    "\n",
    "## 1. Introduction\n",
    "\n",
    "\"Should I buy or should I rent?\" is a common question one ask when moving into their first home or downsizing? Home ownership can represent personal success and stability for some or represent an expensive anchor that reduce travel and relocaion for others. Since 2012, home values have recovered from the 2007 Great Recession that originiated from the subprime mortgage crash. Today, it is difficult to determine whether homes values are relative bargains or overpriced money traps. One popular metric to consider in the decision-making process is to reference the Price-to-Rent (P/R) ratio.\n",
    "\n",
    "We use the following equation to calculate the Price-to-Rent (P/R) ratio:<br>\n",
    "\n",
    "<i>P/R ratio = median home sales ÷ median rent</i><br>\n",
    "\n",
    "The results from P/R ratio helps us determine the following:\n",
    "* High P/R value 21 or greater, rent is better than buy<br>\n",
    "* Mid P/R value 15 to 20, market value is reasonable<br>\n",
    "* Low P/R value 14 or less, buy is better than rent<br>\n",
    "\n",
    "So where in the United States (US) is it better to rent than to buy in today's housing market? \n",
    "\n",
    "## 2. Hypothesis \n",
    "\n",
    "1. It is better to rent than to buy at 60% or greater locations in today's housing market\n",
    "2. It is better to buy than to sell at 40% or greater locations in today's housing market\n",
    "\n",
    "\n",
    "## 3. Data\n",
    "The following datasets were uploaded from source into GitHub repository to determine P/R ratio, location by zip code, and test hypothesis:\n",
    "\n",
    "1. Redfin | [2017-2019 Median Home Sales](https://github.com/leonchengmba/Thinkful_capstone1/blob/master/Cap1_data/home_sales.csv)\n",
    "2. HUD.gov | [2017-2019 Median Fair Market Rental](https://github.com/leonchengmba/Thinkful_capstone1/blob/master/Cap1_data/market_rent.csv)\n"
   ]
  },
  {
   "cell_type": "code",
   "execution_count": 50,
   "metadata": {},
   "outputs": [],
   "source": [
    "%matplotlib inline\n",
    "import numpy as np\n",
    "import pandas as pd\n",
    "import matplotlib.pyplot as plt\n",
    "from scipy import stats\n",
    "import seaborn as sns"
   ]
  },
  {
   "cell_type": "code",
   "execution_count": 54,
   "metadata": {
    "scrolled": false
   },
   "outputs": [
    {
     "name": "stdout",
     "output_type": "stream",
     "text": [
      "[Errno 2] File b'home_sales.csv' does not exist: b'home_sales.csv'\n",
      "Attempting to read datasets from online csv files on Github\n"
     ]
    }
   ],
   "source": [
    "try:\n",
    "    raw_home = pd.read_csv('home_sales.csv')\n",
    "    raw_rent = pd.read_csv('market_rent.csv')\n",
    "except FileNotFoundError as e:\n",
    "    print(e)\n",
    "    print('Attempting to read datasets from online csv files on Github')\n",
    "    raw_home = pd.read_csv('https://raw.githubusercontent.com/leonchengmba/Thinkful_capstone1/master/Cap1_data/home_sales.csv')\n",
    "    raw_rent = pd.read_csv('https://raw.githubusercontent.com/leonchengmba/Thinkful_capstone1/master/Cap1_data/market_rent.csv')"
   ]
  },
  {
   "cell_type": "code",
   "execution_count": 53,
   "metadata": {},
   "outputs": [
    {
     "ename": "NameError",
     "evalue": "name 'raw_market' is not defined",
     "output_type": "error",
     "traceback": [
      "\u001b[1;31m---------------------------------------------------------------------------\u001b[0m",
      "\u001b[1;31mNameError\u001b[0m                                 Traceback (most recent call last)",
      "\u001b[1;32m<ipython-input-53-9ab899639b70>\u001b[0m in \u001b[0;36m<module>\u001b[1;34m\u001b[0m\n\u001b[1;32m----> 1\u001b[1;33m \u001b[0mprint\u001b[0m\u001b[1;33m(\u001b[0m\u001b[0mraw_market\u001b[0m\u001b[1;33m.\u001b[0m\u001b[0minfo\u001b[0m\u001b[1;33m(\u001b[0m\u001b[1;33m)\u001b[0m\u001b[1;33m)\u001b[0m\u001b[1;33m\u001b[0m\u001b[1;33m\u001b[0m\u001b[0m\n\u001b[0m\u001b[0;32m      2\u001b[0m \u001b[0mraw_market\u001b[0m\u001b[1;33m.\u001b[0m\u001b[0mhead\u001b[0m\u001b[1;33m(\u001b[0m\u001b[1;33m)\u001b[0m\u001b[1;33m\u001b[0m\u001b[1;33m\u001b[0m\u001b[0m\n",
      "\u001b[1;31mNameError\u001b[0m: name 'raw_market' is not defined"
     ]
    }
   ],
   "source": [
    "print(raw_market.info())\n",
    "raw_market.head()"
   ]
  }
 ],
 "metadata": {
  "kernelspec": {
   "display_name": "Python 3",
   "language": "python",
   "name": "python3"
  },
  "language_info": {
   "codemirror_mode": {
    "name": "ipython",
    "version": 3
   },
   "file_extension": ".py",
   "mimetype": "text/x-python",
   "name": "python",
   "nbconvert_exporter": "python",
   "pygments_lexer": "ipython3",
   "version": "3.7.4"
  }
 },
 "nbformat": 4,
 "nbformat_minor": 4
}
